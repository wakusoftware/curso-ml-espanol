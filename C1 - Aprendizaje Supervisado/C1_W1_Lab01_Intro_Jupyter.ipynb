{
 "cells": [
  {
   "cell_type": "markdown",
   "source": [
    "<a target=\"_blank\" href=\"https://colab.research.google.com/github/wakusoftware/curso-ml-espanol/blob/master/C1%20-%20Aprendizaje%20Supervisado/C1_W1_Lab01_Intro_Jupyter.ipynb\">\n",
    "  <img src=\"https://colab.research.google.com/assets/colab-badge.svg\" alt=\"Open In Colab\"/>\n",
    "</a>"
   ],
   "metadata": {
    "collapsed": false
   },
   "id": "d215e46599e217f6"
  },
  {
   "cell_type": "markdown",
   "metadata": {
    "pycharm": {
     "name": "#%% md\n"
    }
   },
   "source": [
    "# Lab: Breve introducción a Python y los Jupyter Notebooks\n",
    "¡Bienvenidos al primer laboratorio opcional! Hay laboratorios opcionales disponibles para:\n",
    "- proporcionar información, como este cuaderno (notebook)\n",
    "- reforzar el material de la conferencia con ejemplos prácticos\n",
    "- Proporcionar ejemplos prácticos de rutinas utilizadas en los laboratorios calificados."
   ],
   "id": "ba8104817b869702"
  },
  {
   "cell_type": "markdown",
   "metadata": {
    "pycharm": {
     "name": "#%% md\n"
    }
   },
   "source": [
    "## Objetivos\n",
    "En este laboratorio:\n",
    "- Obtendrás una breve introducción a los cuadernos Jupyter\n",
    "- Harás un recorrido por los cuadernos Jupyter\n",
    "- Aprenderás la diferencia entre celdas de markdown y celdas de código\n",
    "- Practicarás algo de Python básico."
   ],
   "id": "2c03c1691c6c3a96"
  },
  {
   "cell_type": "markdown",
   "metadata": {
    "pycharm": {
     "name": "#%% md\n"
    }
   },
   "source": [
    "Los cuadernos Jupyter tienen dos tipos de celdas que se utilizan en este curso. Celdas como esta que contienen documentación llamada `Celdas de Markdown` o en el caso de Google Colab `Celda de Texto`. El nombre se deriva del lenguaje de formato simple utilizado en las celdas. No se te pedirá que produzcas celdas de markdown. Es útil comprender el `despliegue de celda` que se muestra en el gráfico siguiente. Ocasionalmente, una celda terminará en el modo incorrecto y es posible que tengas que restaurarla al estado correcto:"
   ],
   "id": "3cec0bb3fe88b790"
  },
  {
   "cell_type": "markdown",
   "metadata": {
    "pycharm": {
     "name": "#%% md\n"
    }
   },
   "source": [
    "<figure>\n",
    "   <img src=\"./images/C1W1L1_Markdown.PNG\"  alt='missing' width=\"400\"  >\n",
    "<figure/>"
   ],
   "id": "55ed52839d669624"
  },
  {
   "cell_type": "markdown",
   "metadata": {
    "pycharm": {
     "name": "#%% md\n"
    }
   },
   "source": [
    "El otro tipo de celda es la `celda de código` donde escribirás tu código:"
   ],
   "id": "10f10dff7eb19385"
  },
  {
   "cell_type": "code",
   "execution_count": 4,
   "metadata": {
    "pycharm": {
     "name": "#%%\n"
    },
    "ExecuteTime": {
     "end_time": "2024-04-02T18:12:21.651104Z",
     "start_time": "2024-04-02T18:12:21.647859Z"
    }
   },
   "outputs": [
    {
     "name": "stdout",
     "output_type": "stream",
     "text": [
      "Esto es una celda de código\n"
     ]
    }
   ],
   "source": [
    "# Esto es una celda de código\n",
    "print(\"Esto es una celda de código\")"
   ],
   "id": "491aa05416c86761"
  },
  {
   "cell_type": "markdown",
   "metadata": {
    "pycharm": {
     "name": "#%% md\n"
    }
   },
   "source": [
    "## Python\n",
    "Puede escribir tu código en las celdas de código.\n",
    "Para ejecutar el código, seleccione la celda y\n",
    "- mantén presionada la tecla Mayús y presiona 'enter' o 'regresar'\n",
    "- haz clic en la flecha 'ejecutar' arriba\n",
    "- haz clic en la flecha 'ejecutar' arriba\n",
    "\n",
    "<figure>\n",
    "    <img src=\"./images/C1W1L1_Run.PNG\"  width=\"400\"  >\n",
    "<figure/>\n",
    "\n",
    " "
   ],
   "id": "bab8aa4bf7d5003e"
  },
  {
   "cell_type": "markdown",
   "metadata": {
    "pycharm": {
     "name": "#%% md\n"
    }
   },
   "source": [
    "### Sentencia \"print\"\n",
    "Las sentencias print generalmente usarán el estilo de f-string de Python.\n",
    "Intenta crear tu propio print en la siguiente celda.\n",
    "Prueba ambos métodos para ejecutar la celda."
   ],
   "id": "bee6b0d92ee0dc53"
  },
  {
   "cell_type": "code",
   "execution_count": 5,
   "metadata": {
    "pycharm": {
     "name": "#%%\n"
    },
    "ExecuteTime": {
     "end_time": "2024-04-02T18:12:22.784608Z",
     "start_time": "2024-04-02T18:12:22.781877Z"
    }
   },
   "outputs": [
    {
     "name": "stdout",
     "output_type": "stream",
     "text": [
      "las f strings permiten incrustar variables string normal\n"
     ]
    }
   ],
   "source": [
    "# sentencias print\n",
    "variable = \"string normal\"\n",
    "print(f\"las f strings permiten incrustar variables {variable}\")"
   ],
   "id": "33ca8ceeeeb7b55f"
  },
  {
   "cell_type": "markdown",
   "metadata": {
    "pycharm": {
     "name": "#%% md\n"
    }
   },
   "source": [
    "# Felicidades!\n",
    "Ya sabes como utilizar un cuaderno Jupyter."
   ],
   "id": "2d4be9391bea4abe"
  },
  {
   "cell_type": "code",
   "outputs": [],
   "source": [],
   "metadata": {
    "collapsed": false
   },
   "id": "30269e6862083cbf"
  }
 ],
 "metadata": {
  "kernelspec": {
   "display_name": "Python 3",
   "language": "python",
   "name": "python3"
  },
  "language_info": {
   "codemirror_mode": {
    "name": "ipython",
    "version": 3
   },
   "file_extension": ".py",
   "mimetype": "text/x-python",
   "name": "python",
   "nbconvert_exporter": "python",
   "pygments_lexer": "ipython3",
   "version": "3.7.6"
  }
 },
 "nbformat": 4,
 "nbformat_minor": 5
}
