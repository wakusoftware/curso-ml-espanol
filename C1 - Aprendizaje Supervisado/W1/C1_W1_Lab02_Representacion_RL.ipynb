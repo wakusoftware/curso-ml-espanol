{
 "cells": [
  {
   "cell_type": "markdown",
   "source": [
    "<a target=\"_blank\" href=\"https://colab.research.google.com/github/wakusoftware/curso-ml-espanol/blob/master/C1%20-%20Aprendizaje%20Supervisado/W1/C1_W1_Lab02_Representacion_RL.ipynb\">\n",
    "  <img src=\"https://colab.research.google.com/assets/colab-badge.svg\" alt=\"Open In Colab\"/>\n",
    "</a>"
   ],
   "metadata": {
    "collapsed": false
   },
   "id": "855a8271a31010e3"
  },
  {
   "cell_type": "markdown",
   "source": [
    "## Setup para Colab\n",
    "Si estás corriendo este Notebook en Google Colab corre la celda de abajo, de lo contrario ignórala."
   ],
   "metadata": {
    "collapsed": false
   },
   "id": "e09a56e43b3af2f1"
  },
  {
   "cell_type": "code",
   "source": [
    "!git clone https://github.com/wakusoftware/curso-ml-espanol.git\n",
    "\n",
    "%cd curso-ml-espanol/C1 - Aprendizaje Supervisado/W1/\n",
    "\n",
    "!cp -r deeplearning.mplstyle /content/\n",
    "\n",
    "!cp -r images /content/\n",
    "\n",
    "%cd /content/\n",
    "\n",
    "!rm -rf curso-ml-espanol/"
   ],
   "metadata": {
    "collapsed": false
   },
   "id": "9f9f7bc198efe8a5",
   "outputs": [],
   "execution_count": null
  },
  {
   "cell_type": "markdown",
   "metadata": {
    "pycharm": {
     "name": "#%% md\n"
    }
   },
   "source": [
    "# Lab: Representación Regresión Lineal\n",
    "\n",
    "<figure>\n",
    " <img src=\"./images/C1_W1_L3_S1_Lecture_b.jpeg\"   style=\"width:600px;height:200px;\">\n",
    "</figure>"
   ],
   "id": "367496727334d94f"
  },
  {
   "cell_type": "markdown",
   "metadata": {
    "pycharm": {
     "name": "#%% md\n"
    }
   },
   "source": [
    "## Objetivos\n",
    "En este laboratorio vas a:\n",
    "\n",
    "- Aprender a implementar el modelo $f_{w,b}$ para regresión lineal con una variable"
   ],
   "id": "41397a30ae74dc3a"
  },
  {
   "cell_type": "markdown",
   "metadata": {
    "pycharm": {
     "name": "#%% md\n"
    }
   },
   "source": [
    "## Notación\n",
    "Aquí un resumen de parte de la notación que encontrarás.  \n",
    "\n",
    "**General**\n",
    "\n",
    "| $a$ | escalar, sin negritas                                                     ||\n",
    "| $\\mathbf{a}$ | vector, en negritas                                                      ||\n",
    "\n",
    "**Regresión**\n",
    "\n",
    "| $\\mathbf{x}$ | Valores de características de los ejemplos de entrenamiento (en este laboratorio - Tamaño (1000 pies cuadrados)) | x_train |\n",
    "| $\\mathbf{y}$ | Objetivos de los ejemplos de entrenamiento (en este laboratorio Precio (miles de dólares)). | y_train\n",
    "| $x^{(i)}$, $y^{(i)}$ | $i$-ésimo ejemplo de entrenamiento | x_i, y_i|\n",
    "| m | Número de ejemplos de entrenamiento | m|\n",
    "| $w$ | parámetro: weight (peso), | w |\n",
    "| $b$ | parámetro: bias (sesgo) | b |\n",
    "| $f_{w,b}(x^{(i)})$ | El resultado de la evaluación del modelo en $x^{(i)}$, parametrizado por $w,b$: $f_{w,b}(x^{(i)}) = wx^{(i)}+b$ | f_wb |\n"
   ],
   "id": "87a6576fec3edcef"
  },
  {
   "cell_type": "markdown",
   "metadata": {
    "pycharm": {
     "name": "#%% md\n"
    }
   },
   "source": [
    "## Herramientas\n",
    "\n",
    "En este laboratorio utilizarás:\n",
    "\n",
    "- NumPy, una biblioteca popular para computación científica\n",
    "- Matplotlib, una biblioteca popular para graficar datos"
   ],
   "id": "efdc2fd99dd79cb0"
  },
  {
   "cell_type": "code",
   "metadata": {
    "pycharm": {
     "name": "#%%\n"
    }
   },
   "source": [
    "import numpy as np\n",
    "import matplotlib.pyplot as plt\n",
    "plt.style.use('./deeplearning.mplstyle')"
   ],
   "id": "4a284ec93eb809e2",
   "outputs": [],
   "execution_count": null
  },
  {
   "cell_type": "markdown",
   "metadata": {
    "pycharm": {
     "name": "#%% md\n"
    }
   },
   "source": [
    "# Declaración del problema\n",
    "<img align=\"left\" src=\"./images/C1_W1_L3_S1_trainingdata.jpeg\"    style=\" width:380px; padding: 10px;  \" /> \n",
    "\n",
    "Como en la clase, usarás el ejemplo de la predicción del precio de viviendas. Este laboratorio utilizará un conjunto de datos simple con solo dos puntos de datos: una casa de 1000 pies cuadrados (sqft) vendida por \\\\$300,000 y una casa 2000 pies cuadrados vendia por \\\\$500,000. Estos dos puntos constituirán nuestro *training set*. En este laboratorio, las unidades de tamaño son 1000 sqft y las unidades de precio son miles de dólares.\n",
    "\n",
    "| Tamaño (1000 sqft) | Precio (1000s of dollars) |\n",
    "|--------------------|---------------------------|\n",
    "| 1.0                | 300                       |\n",
    "| 2.0                | 500                       |\n",
    "\n",
    "Debemos ajustar un modelo de regresión lineal (mostrado arriba como la línea recta azul) a través de estos dos puntos, para que luego puedas predecir el precio de otras casas, por ejemplo, una casa de 1200 sqft.\n"
   ],
   "id": "8c72928511a16846"
  },
  {
   "cell_type": "markdown",
   "metadata": {
    "pycharm": {
     "name": "#%% md\n"
    }
   },
   "source": [
    "Por favor, ejecuta la siguiente celda de código para crear tus variables `x_train` y `y_train`. Los datos se almacenan en arreglos unidimensionales de NumPy."
   ],
   "id": "a355365155e7adbd"
  },
  {
   "cell_type": "code",
   "metadata": {
    "pycharm": {
     "name": "#%%\n"
    }
   },
   "source": [
    "# x_train es la variable de entrada (tamaño en 1000 pies cuadrados)\n",
    "# y_train es la variable objetivo (precio en miles de dólares)\n",
    "x_train = np.array([1.0, 2.0])\n",
    "y_train = np.array([300.0, 500.0])\n",
    "print(f\"x_train = {x_train}\")\n",
    "print(f\"y_train = {y_train}\")"
   ],
   "id": "69eff527d003cd52",
   "outputs": [],
   "execution_count": null
  },
  {
   "cell_type": "markdown",
   "metadata": {
    "pycharm": {
     "name": "#%% md\n"
    }
   },
   "source": [
    ">**Nota**: El curso utilizará frecuentemente el formato de salida 'f-string' de Python descrito [aquí](https://docs.python.org/3/tutorial/inputoutput.html). El contenido entre las llaves se evalúa al producir la salida."
   ],
   "id": "aa148a83d963e343"
  },
  {
   "cell_type": "markdown",
   "metadata": {
    "pycharm": {
     "name": "#%% md\n"
    }
   },
   "source": [
    "### Número de ejemplos de entrenamiento `m`\n",
    "Utilizarás `m` para denotar el número de ejemplos de entrenamiento. Los arrays de Numpy tienen un parámetro `.shape`. `x_train.shape` devuelve una tupla (tuple) de Python con una entrada para cada dimensión. `x_train.shape[0]` es la longitud del arreglo y el número de ejemplos, como se muestra a continuación."
   ],
   "id": "845001ac97b6ec64"
  },
  {
   "cell_type": "markdown",
   "source": [],
   "metadata": {
    "collapsed": false
   },
   "id": "c971c3bdd8a48fd3"
  },
  {
   "cell_type": "code",
   "metadata": {
    "pycharm": {
     "name": "#%%\n"
    }
   },
   "source": [
    "# m es el número de ejemplos de entrenamiento\n",
    "print(f\"x_train.shape: {x_train.shape}\")\n",
    "m = x_train.shape[0]\n",
    "print(f\"El número de ejemplos de entrenamiento es: {m}\")"
   ],
   "id": "cf135fcc4d9629d3",
   "outputs": [],
   "execution_count": null
  },
  {
   "cell_type": "markdown",
   "metadata": {
    "pycharm": {
     "name": "#%% md\n"
    }
   },
   "source": [
    "También se puede utilizar la función len() de Python, como se muestra a continuación."
   ],
   "id": "7869dfa6bfa6f62"
  },
  {
   "cell_type": "code",
   "metadata": {
    "pycharm": {
     "name": "#%%\n"
    }
   },
   "source": [
    "# m es el número de ejemplos de entrenamiento\n",
    "m = len(x_train)\n",
    "print(f\"El número de ejemplos de entrenamiento es: {m}\")"
   ],
   "id": "1e283f96195ef89e",
   "outputs": [],
   "execution_count": null
  },
  {
   "cell_type": "markdown",
   "metadata": {
    "pycharm": {
     "name": "#%% md\n"
    }
   },
   "source": [
    "### Ejemplo de entrenamiento `x_i, y_i`\n",
    "\n",
    "Utilizarás (x$^{(i)}$, y$^{(i)}$) para denotar el $i$-ésimo ejemplo de entrenamiento. Dado que Python está indexado en cero, (x$^{(0)}$, y$^{(0)}$) es (1.0, 300.0) y (x$^{(1)}$, y$^{(1)}$) es (2.0, 500.0).\n",
    "\n",
    "Para acceder a un valor en un arreglo de Numpy, se indexa el arreglo con el desplazamiento deseado. Por ejemplo, la sintaxis para acceder a la posición cero de `x_train` es `x_train[0]`.\n",
    "Ejecuta el siguiente bloque de código para obtener el $i$-ésimo ejemplo de entrenamiento."
   ],
   "id": "191c6e0292ebf40e"
  },
  {
   "cell_type": "code",
   "metadata": {
    "pycharm": {
     "name": "#%%\n"
    }
   },
   "source": [
    "i = 0 # Cambia esto a 1 para ver (x^1, y^1)\n",
    "\n",
    "x_i = x_train[i]\n",
    "y_i = y_train[i]\n",
    "print(f\"(x^({i}), y^({i})) = ({x_i}, {y_i})\")\n"
   ],
   "id": "a734cd78af60381b",
   "outputs": [],
   "execution_count": null
  },
  {
   "cell_type": "markdown",
   "metadata": {
    "pycharm": {
     "name": "#%% md\n"
    }
   },
   "source": [
    "### Graficando los datos"
   ],
   "id": "99e12bad808b7ee2"
  },
  {
   "cell_type": "markdown",
   "metadata": {
    "pycharm": {
     "name": "#%% md\n"
    }
   },
   "source": [
    "Puedes graficar estos dos puntos usando la función `scatter()` en la biblioteca `matplotlib`, como se muestra en la celda a continuación.\n",
    "\n",
    "- Los argumentos de la función `marker` y `c` muestran los puntos como cruces rojas (el predeterminado son puntos azules).\n",
    "\n",
    "Puedes usar otras funciones en la biblioteca `matplotlib` para configurar el título y las etiquetas que se mostrarán."
   ],
   "id": "ed58684d981603d7"
  },
  {
   "cell_type": "code",
   "metadata": {
    "pycharm": {
     "name": "#%%\n"
    }
   },
   "source": [
    "# Graficar los puntos de datos\n",
    "plt.scatter(x_train, y_train, marker='x', c='r')\n",
    "# Establecer el título\n",
    "plt.title(\"Precios de Viviendas\")\n",
    "# Establecer la etiqueta del eje y\n",
    "plt.ylabel('Precio (en miles de dólares)')\n",
    "# Establecer la etiqueta del eje x\n",
    "plt.xlabel('Tamaño (1000 pies cuadrados)')\n",
    "plt.show()\n"
   ],
   "id": "300e234efc702e08",
   "outputs": [],
   "execution_count": null
  },
  {
   "cell_type": "markdown",
   "metadata": {
    "pycharm": {
     "name": "#%% md\n"
    }
   },
   "source": [
    "## Función del modelo\n",
    "\n",
    "<img align=\"left\" src=\"./images/C1_W1_L3_S1_model.jpeg\"     style=\" width:380px; padding: 10px; \" > \n",
    "\n",
    "Como se describió en la clase, la función del modelo para la regresión lineal (que es una función que mapea de `x` a `y`) se representa como\n",
    "\n",
    "$$ f_{w,b}(x^{(i)}) = wx^{(i)} + b \\tag{1}$$\n",
    "\n",
    "La fórmula anterior es cómo puedes representar líneas rectas: diferentes valores de $w$ y $b$ te dan diferentes líneas rectas en la gráfica. <br/> <br/> <br/> <br/> <br/>\n",
    "\n",
    "Intentemos obtener una mejor intuición de esto a través de los siguientes bloques de código. Comencemos con $w = 100$ y $b = 100$.\n",
    "\n",
    "**Nota: Puedes volver a esta celda para ajustar los parámetros w y b del modelo**"
   ],
   "id": "2b92f0833f7143f3"
  },
  {
   "cell_type": "code",
   "metadata": {
    "pycharm": {
     "name": "#%%\n"
    }
   },
   "source": [
    "w = 100\n",
    "b = 100\n",
    "print(f\"w: {w}\")\n",
    "print(f\"b: {b}\")"
   ],
   "id": "e73d6732618dfd2b",
   "outputs": [],
   "execution_count": null
  },
  {
   "cell_type": "markdown",
   "metadata": {
    "pycharm": {
     "name": "#%% md\n"
    }
   },
   "source": [
    "Ahora, calculemos el valor de $f_{w,b}(x^{(i)})$ para tus dos puntos de datos. Puedes escribir esto explícitamente para cada punto de datos como -\n",
    "\n",
    "para $x^{(0)}$, `f_wb = w * x[0] + b`\n",
    "\n",
    "para $x^{(1)}$, `f_wb = w * x[1] + b`\n",
    "\n",
    "Para un gran número de puntos de datos, esto puede volverse engorroso y repetitivo. Entonces, en lugar de eso, puedes calcular la salida de la función en un bucle `for` como se muestra en la función `compute_model_output` a continuación.\n",
    "> **Nota**: La descripción del argumento `(ndarray (m,))` describe un arreglo n-dimensional de Numpy de forma (m,). `(scalar)` describe un argumento sin dimensiones, solo una magnitud.  \n",
    "> **Nota**: `np.zero(n)` devolverá un arreglo de Numpy unidimensional con $n$ entradas"
   ],
   "id": "3db053d7b8fcb6bb"
  },
  {
   "cell_type": "code",
   "metadata": {
    "pycharm": {
     "name": "#%%\n"
    }
   },
   "source": [
    "def compute_model_output(x, w, b):\n",
    "    \"\"\"\n",
    "    Calcula la predicción de un modelo lineal\n",
    "    Argumentos:\n",
    "      x (ndarray (m,)): Datos, m ejemplos\n",
    "      w,b (scalar)    : parámetros del modelo\n",
    "    Retorna\n",
    "      y (ndarray (m,)): valores objetivo\n",
    "    \"\"\"\n",
    "    m = x.shape[0]\n",
    "    f_wb = np.zeros(m)\n",
    "    for i in range(m):\n",
    "        f_wb[i] = w * x[i] + b\n",
    "        \n",
    "    return f_wb\n"
   ],
   "id": "cec9a1b0d2b72d3f",
   "outputs": [],
   "execution_count": null
  },
  {
   "cell_type": "markdown",
   "metadata": {
    "pycharm": {
     "name": "#%% md\n"
    }
   },
   "source": [
    "Ahora vamos a llamar a la función `compute_model_output` y graficar la salida."
   ],
   "id": "969098b4ed8ec977"
  },
  {
   "cell_type": "code",
   "metadata": {
    "pycharm": {
     "name": "#%%\n"
    }
   },
   "source": [
    "tmp_f_wb = compute_model_output(x_train, w, b,)\n",
    "\n",
    "# Graficar nuestra predicción del modelo\n",
    "plt.plot(x_train, tmp_f_wb, c='b',label='Nuestra Predicción')\n",
    "\n",
    "# Graficar los puntos de datos\n",
    "plt.scatter(x_train, y_train, marker='x', c='r',label='Valores Reales')\n",
    "\n",
    "# Establecer el título\n",
    "plt.title(\"Precios de Viviendas\")\n",
    "# Establecer la etiqueta del eje y\n",
    "plt.ylabel('Precio (en miles de dólares)')\n",
    "# Establecer la etiqueta del eje x\n",
    "plt.xlabel('Tamaño (1000 pies cuadrados)')\n",
    "plt.legend()\n",
    "plt.show()\n"
   ],
   "id": "a1ee83694f1780b5",
   "outputs": [],
   "execution_count": null
  },
  {
   "cell_type": "markdown",
   "metadata": {
    "pycharm": {
     "name": "#%% md\n"
    }
   },
   "source": [
    "Como puedes ver, establecer $w = 100$ y $b = 100$ *no* resulta en una línea que se ajuste a nuestros datos.\n",
    "\n",
    "### Desafío\n",
    "Intenta experimentar con diferentes valores de $w$ y $b$. ¿Cuáles deberían ser los valores para una línea que se ajuste a nuestros datos?\n",
    "\n",
    "#### Consejo:\n",
    "Puedes usar tu mouse para hacer clic en el triángulo a la izquierda de los \"Consejos\" verdes abajo para revelar algunas pistas para elegir b y w."
   ],
   "id": "4ad4bb5f8832cd9d"
  },
  {
   "cell_type": "markdown",
   "metadata": {
    "pycharm": {
     "name": "#%% md\n"
    }
   },
   "source": [
    "<details>\n",
    "<summary>\n",
    "    <font size='4', color='green'><b>Pista</b></font>\n",
    "</summary>\n",
    "    <p>\n",
    "    <ul>\n",
    "        <li>Prueba $w = 200$ y $b = 100$ </li>\n",
    "    </ul>\n",
    "    </p>"
   ],
   "id": "67c8ed5139a3824d"
  },
  {
   "cell_type": "markdown",
   "metadata": {
    "pycharm": {
     "name": "#%% md\n"
    }
   },
   "source": [
    "### Predicción\n",
    "Ahora que tenemos un modelo, podemos usarlo para hacer nuestra predicción original. Predigamos el precio de una casa de 1200 pies cuadrados. Dado que las unidades de $x$ están en miles de pies cuadrados, $x$ es 1.2."
   ],
   "id": "c04f32794523523a"
  },
  {
   "cell_type": "code",
   "metadata": {
    "pycharm": {
     "name": "#%%\n"
    }
   },
   "source": [
    "w = 200                         \n",
    "b = 100    \n",
    "x_i = 1.2\n",
    "costo_1200sqft = w * x_i + b    \n",
    "\n",
    "print(f\"${costo_1200sqft:.0f} mil dólares\")"
   ],
   "id": "70e5a1921ecbeb2",
   "outputs": [],
   "execution_count": null
  },
  {
   "cell_type": "markdown",
   "metadata": {
    "pycharm": {
     "name": "#%% md\n"
    }
   },
   "source": [
    "# ¡Felicidades!\n",
    "En este laboratorio has aprendido:\n",
    " - La regresión lineal construye un modelo que establece una relación entre características y objetivos.\n",
    "     - En el ejemplo anterior, la característica era el tamaño de la casa y el objetivo era el precio de la casa.\n",
    "     - Para la regresión lineal simple, el modelo tiene dos parámetros $w$ y $b$ cuyos valores se ajustan utilizando *datos de entrenamiento*.\n",
    "     - Una vez que se han determinado los parámetros de un modelo, el modelo se puede utilizar para hacer predicciones sobre datos nuevos."
   ],
   "id": "51572f92f4557c91"
  },
  {
   "cell_type": "code",
   "metadata": {
    "pycharm": {
     "name": "#%%\n"
    }
   },
   "source": [],
   "id": "e4c746f5da3b489b",
   "outputs": [],
   "execution_count": null
  }
 ],
 "metadata": {
  "kernelspec": {
   "display_name": "Python 3",
   "language": "python",
   "name": "python3"
  },
  "language_info": {
   "codemirror_mode": {
    "name": "ipython",
    "version": 3
   },
   "file_extension": ".py",
   "mimetype": "text/x-python",
   "name": "python",
   "nbconvert_exporter": "python",
   "pygments_lexer": "ipython3",
   "version": "3.7.6"
  },
  "toc-autonumbering": false
 },
 "nbformat": 4,
 "nbformat_minor": 5
}
