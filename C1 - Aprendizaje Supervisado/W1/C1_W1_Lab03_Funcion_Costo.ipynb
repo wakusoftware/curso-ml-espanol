{
 "cells": [
  {
   "cell_type": "markdown",
   "source": [
    "<a target=\"_blank\" href=\"https://colab.research.google.com/github/wakusoftware/curso-ml-espanol/blob/master/C1%20-%20Aprendizaje%20Supervisado/W1/C1_W1_Lab03_Funcion_Costo.ipynb\">\n",
    "  <img src=\"https://colab.research.google.com/assets/colab-badge.svg\" alt=\"Open In Colab\"/>\n",
    "</a>"
   ],
   "metadata": {
    "collapsed": false
   },
   "id": "734f27f10bc43f6b"
  },
  {
   "cell_type": "markdown",
   "source": [
    "## Setup para Colab\n",
    "Si estás corriendo este Notebook en Google Colab corre la celda de abajo, de lo contrario ignórala."
   ],
   "metadata": {
    "collapsed": false
   },
   "id": "a7bb22580e13f8d2"
  },
  {
   "cell_type": "code",
   "source": [
    "!git clone https://github.com/wakusoftware/curso-ml-espanol.git\n",
    "\n",
    "%cd curso-ml-espanol/C1 - Aprendizaje Supervisado/W1/\n",
    "\n",
    "!cp -r deeplearning.mplstyle /content/\n",
    "\n",
    "!cp -r images /content/\n",
    "\n",
    "!cp -r lab_utils_uni.py /content/\n",
    "\n",
    "%cd /content/\n",
    "\n",
    "!rm -rf curso-ml-espanol/"
   ],
   "metadata": {
    "collapsed": false
   },
   "id": "c9d36dc3afddaf60",
   "outputs": [],
   "execution_count": null
  },
  {
   "cell_type": "markdown",
   "metadata": {
    "pycharm": {
     "name": "#%% md\n"
    }
   },
   "source": [
    "# Lab: Función de Costo (Cost Funcion)\n",
    "<figure>\n",
    "    <center> <img src=\"./images/C1_W1_L3_S2_Lecture_b.jpeg\"  style=\"width:1000px;height:200px;\" ></center>\n",
    "</figure>\n",
    "\n"
   ],
   "id": "ae91e1c912154f40"
  },
  {
   "cell_type": "markdown",
   "metadata": {
    "pycharm": {
     "name": "#%% md\n"
    }
   },
   "source": [
    "## Objetivos\n",
    "En este laboratorio:\n",
    "- Implementarás y explorarás la función de costo para la regresión lineal con una variable.\n"
   ],
   "id": "b0ad7f87f2e3d716"
  },
  {
   "cell_type": "markdown",
   "metadata": {
    "pycharm": {
     "name": "#%% md\n"
    }
   },
   "source": [
    "## Herramientas\n",
    "En este laboratorio haremos uso de:\n",
    "- NumPy, una biblioteca popular para el cálculo científico\n",
    "- Matplotlib, una biblioteca popular para la visualización de datos\n",
    "- rutinas locales de visualización en el archivo lab_utils_uni.py en el directorio local"
   ],
   "id": "aa53723157784c73"
  },
  {
   "cell_type": "code",
   "metadata": {
    "pycharm": {
     "name": "#%%\n"
    }
   },
   "source": [
    "import numpy as np\n",
    "%matplotlib widget\n",
    "import matplotlib.pyplot as plt\n",
    "from lab_utils_uni import plt_intuition, plt_stationary, plt_update_onclick, soup_bowl\n",
    "plt.style.use('./deeplearning.mplstyle')"
   ],
   "id": "677f9e1ac8a05e7a",
   "outputs": [],
   "execution_count": null
  },
  {
   "cell_type": "markdown",
   "metadata": {
    "pycharm": {
     "name": "#%% md\n"
    }
   },
   "source": [
    "## Declaración del Problema\n",
    "\n",
    "Crear un modelo que pueda predecir los precios de las viviendas dada el tamaño de la casa.  \n",
    "Usaremos los mismos dos puntos de datos que antes del laboratorio anterior: una casa de 1000 pies cuadrados se vendió por $300,000 y una casa de 2000 pies cuadrados se vendió por $500,000.\n",
    "\n",
    "\n",
    "| Tamaño (1000 pies cuadrados) | Precio (miles de dólares) |\n",
    "| -----------------------------| -------------------------- |\n",
    "| 1                            | 300                        |\n",
    "| 2                            | 500                        |"
   ],
   "id": "afc54958d544934"
  },
  {
   "cell_type": "code",
   "metadata": {
    "pycharm": {
     "name": "#%%\n"
    }
   },
   "source": [
    "x_train = np.array([1.0, 2.0])           #(tamaño en 1000 pies cuadrados)\n",
    "y_train = np.array([300.0, 500.0])           #(precio en miles de dólares)"
   ],
   "id": "e0a5ec2377a608c6",
   "outputs": [],
   "execution_count": null
  },
  {
   "cell_type": "markdown",
   "metadata": {
    "pycharm": {
     "name": "#%% md\n"
    }
   },
   "source": [
    "## Cálculo del Costo\n",
    "El término 'costo' en esta asignación podría ser un poco confuso ya que los datos se refieren al costo de la vivienda. Aquí, el costo es una medida de qué tan bien nuestro modelo está prediciendo el precio objetivo de la casa. El término 'precio' se utiliza para los datos de vivienda.\n",
    "\n",
    "La ecuación para el costo con una variable es:\n",
    "  $$J(w,b) = \\frac{1}{2m} \\sum\\limits_{i = 0}^{m-1} (f_{w,b}(x^{(i)}) - y^{(i)})^2 \\tag{1}$$ \n",
    " \n",
    "donde \n",
    "  $$f_{w,b}(x^{(i)}) = wx^{(i)} + b \\tag{2}$$\n",
    "  \n",
    "- $f_{w,b}(x^{(i)})$ es nuestra predicción para el ejemplo $i$ usando los parámetros $w,b$.  \n",
    "- $(f_{w,b}(x^{(i)}) -y^{(i)})^2$ es la diferencia al cuadrado entre el valor objetivo y la predicción.   \n",
    "- Estas diferencias se suman sobre todos los $m$ ejemplos y se dividen por `2m` para producir el costo, $J(w,b)$.  \n",
    ">Nota, en las clases los rangos de sumatoria típicamente van de 1 a m, mientras que en el código van de 0 a m-1."
   ],
   "id": "a1ff9c84dcbbee27"
  },
  {
   "cell_type": "markdown",
   "metadata": {
    "pycharm": {
     "name": "#%% md\n"
    }
   },
   "source": [
    "El código a continuación calcula el costo recorriendo cada ejemplo. En cada ciclo:\n",
    "- `f_wb`, se calcula una predicción\n",
    "- se calcula la diferencia entre el objetivo y la predicción y se eleva al cuadrado.\n",
    "- esto se suma al costo total."
   ],
   "id": "50e1cf6ac7c30aec"
  },
  {
   "cell_type": "code",
   "metadata": {
    "pycharm": {
     "name": "#%%\n"
    }
   },
   "source": [
    "def compute_cost(x, y, w, b): \n",
    "    \"\"\"\n",
    "    Calcula la función de costo para la regresión lineal.\n",
    "    \n",
    "    Argumentos:\n",
    "      x (ndarray (m,)): Datos, m ejemplos \n",
    "      y (ndarray (m,)): valores objetivos\n",
    "      w,b (escalar)    : parámetros del modelo  \n",
    "    \n",
    "    Retorna:\n",
    "        total_cost (float): El costo de usar w,b como los parámetros para la regresión lineal\n",
    "               para ajustar los puntos de datos en x y y\n",
    "    \"\"\"\n",
    "    # número de ejemplos de entrenamiento\n",
    "    m = x.shape[0] \n",
    "    \n",
    "    suma_costo = 0 \n",
    "    for i in range(m): \n",
    "        f_wb = w * x[i] + b   \n",
    "        costo = (f_wb - y[i]) ** 2  \n",
    "        suma_costo = suma_costo + costo  \n",
    "    costo_total = (1 / (2 * m)) * suma_costo  \n",
    "\n",
    "    return costo_total"
   ],
   "id": "4f88ade1b7e1bc1",
   "outputs": [],
   "execution_count": null
  },
  {
   "cell_type": "markdown",
   "metadata": {
    "pycharm": {
     "name": "#%% md\n"
    }
   },
   "source": [
    "## Intuición de la Función de Costo"
   ],
   "id": "d0452208661a7595"
  },
  {
   "cell_type": "markdown",
   "metadata": {
    "pycharm": {
     "name": "#%% md\n"
    }
   },
   "source": [
    "<img align=\"left\" src=\"./images/C1_W1_Lab02_GoalOfRegression.jpeg\"    style=\" width:380px; padding: 10px;  \" /> \n",
    "\n",
    "Tu objetivo es encontrar un modelo $f_{w,b}(x) = wx + b$, con parámetros $w,b$, que prediga con precisión los valores de las casas dado un input $x$. El costo es una medida de cuán preciso es el modelo en los datos de entrenamiento.\n",
    "\n",
    "La ecuación de costo (1) arriba muestra que si se pueden seleccionar $w$ y $b$ de tal manera que las predicciones $f_{w,b}(x)$ coincidan con los datos objetivos $y$, el término $(f_{w,b}(x^{(i)}) - y^{(i)})^2 $ será cero y el costo minimizado. ¡En este simple ejemplo de dos puntos, puedes lograr esto!\n",
    "\n",
    "En el laboratorio anterior, determinaste que $b=100$ proporcionaba una solución óptima, así que establezcamos $b$ en 100 y enfoquémonos en $w$.\n",
    "\n",
    "A continuación, usa el control deslizante para seleccionar el valor de $w$ que minimiza el costo. Puede tardar unos segundos en actualizarse el gráfico."
   ],
   "id": "4262f55d94572933"
  },
  {
   "cell_type": "code",
   "metadata": {
    "pycharm": {
     "name": "#%%\n"
    }
   },
   "source": [
    "plt_intuition(x_train,y_train)"
   ],
   "id": "adf138806942e370",
   "outputs": [],
   "execution_count": null
  },
  {
   "cell_type": "markdown",
   "metadata": {
    "pycharm": {
     "name": "#%% md\n"
    }
   },
   "source": [
    "El gráfico contiene algunos puntos que vale la pena mencionar.\n",
    "\n",
    "- el costo se minimiza cuando $w = 200$, lo que coincide con los resultados del laboratorio anterior\n",
    "- Debido a que la diferencia entre el objetivo y la predicción se eleva al cuadrado en la ecuación de costo, el costo aumenta rápidamente cuando $w$ es demasiado grande o demasiado pequeño.\n",
    "- Usar el `w` y el `b` seleccionados minimizando el costo resulta en una línea que se ajusta perfectamente a los datos."
   ],
   "id": "c99f193bed5b7fd8"
  },
  {
   "cell_type": "markdown",
   "metadata": {
    "pycharm": {
     "name": "#%% md\n"
    }
   },
   "source": [
    "## Visualización de la Función de Costo - 3D\n",
    "\n",
    "Puedes ver cómo varía el costo con respecto a *ambos*, `w` y `b`, trazando en 3D o utilizando un gráfico de contorno.\n",
    "Vale la pena mencionar que algunas de las tramas en este curso pueden volverse bastante complejas. Las rutinas de trazado se proporcionan y, aunque puede ser instructivo leer el código para familiarizarse con los métodos, no es necesario para completar el curso con éxito. Las rutinas están en lab_utils_uni.py en el directorio local."
   ],
   "id": "5a4a018247a1f25a"
  },
  {
   "cell_type": "markdown",
   "metadata": {
    "pycharm": {
     "name": "#%% md\n"
    }
   },
   "source": [
    "### Conjunto de Datos Más Grande\n",
    "Es instructivo ver un escenario con algunos puntos de datos adicionales. Este conjunto de datos incluye puntos que no caen en la misma línea. ¿Qué significa eso para la ecuación de costo? ¿Podemos encontrar $w$ y $b$ que nos den un costo de 0?"
   ],
   "id": "92ad07e1ca06d6b5"
  },
  {
   "cell_type": "code",
   "metadata": {
    "pycharm": {
     "name": "#%%\n"
    }
   },
   "source": [
    "x_train = np.array([1.0, 1.7, 2.0, 2.5, 3.0, 3.2])\n",
    "y_train = np.array([250, 300, 480,  430,   630, 730,])"
   ],
   "id": "60391897ea5641b9",
   "outputs": [],
   "execution_count": null
  },
  {
   "cell_type": "markdown",
   "metadata": {
    "pycharm": {
     "name": "#%% md\n"
    }
   },
   "source": [
    "En el gráfico de contorno, haz clic en un punto para seleccionar `w` y `b` para lograr el costo más bajo. Usa los contornos para guiar tus selecciones. Ten en cuenta que puede tardar unos segundos en actualizar el gráfico."
   ],
   "id": "5636091c244b2c62"
  },
  {
   "cell_type": "code",
   "metadata": {
    "pycharm": {
     "name": "#%%\n"
    }
   },
   "source": [
    "plt.close('all') \n",
    "fig, ax, dyn_items = plt_stationary(x_train, y_train)\n",
    "updater = plt_update_onclick(fig, ax, x_train, y_train, dyn_items)"
   ],
   "id": "f3c39d8a33fbe930",
   "outputs": [],
   "execution_count": null
  },
  {
   "cell_type": "markdown",
   "metadata": {
    "pycharm": {
     "name": "#%% md\n"
    }
   },
   "source": [
    "Arriba, observa las líneas punteadas en el gráfico de la izquierda. Estas representan la porción del costo contribuida por cada ejemplo en tu training set. En este caso, valores de aproximadamente $w=209$ y $b=2.4$ proporcionan un costo bajo. Ten en cuenta que, como nuestros ejemplos de entrenamiento no están en una línea, el costo mínimo no es cero."
   ],
   "id": "9d6759ecb2f932e9"
  },
  {
   "cell_type": "markdown",
   "metadata": {
    "pycharm": {
     "name": "#%% md\n"
    }
   },
   "source": [
    "### Superficie de Costo Convexo\n",
    "El hecho de que la función de costo eleve al cuadrado la pérdida asegura que la 'superficie de error' sea convexa, como un tazón de sopa. Siempre tendrá un mínimo que se puede alcanzar siguiendo el gradiente en todas las dimensiones. En la trama anterior, debido a que las dimensiones de $w$ y $b$ escalan de manera diferente, esto no es fácil de reconocer. La siguiente trama, donde $w$ y $b$ son simétricos, se mostró en la clase:"
   ],
   "id": "e55bb9b40035b09"
  },
  {
   "cell_type": "code",
   "metadata": {
    "pycharm": {
     "name": "#%%\n"
    }
   },
   "source": [
    "soup_bowl()"
   ],
   "id": "d13b31fdcf43cf22",
   "outputs": [],
   "execution_count": null
  },
  {
   "cell_type": "markdown",
   "metadata": {
    "pycharm": {
     "name": "#%% md\n"
    }
   },
   "source": [
    "# ¡Felicidades!\n",
    "Has aprendido lo siguiente:\n",
    " - La ecuación de costo proporciona una medida de qué tan bien tus predicciones coinciden con tus datos de entrenamiento.\n",
    " - Minimizar el costo puede proporcionar valores óptimos de $w$, $b$."
   ],
   "id": "cb6d4692e2f8dcde"
  },
  {
   "cell_type": "code",
   "metadata": {
    "pycharm": {
     "name": "#%%\n"
    }
   },
   "source": [],
   "id": "8dc6df8d121a8b8",
   "outputs": [],
   "execution_count": null
  }
 ],
 "metadata": {
  "kernelspec": {
   "display_name": "Python 3",
   "language": "python",
   "name": "python3"
  },
  "language_info": {
   "codemirror_mode": {
    "name": "ipython",
    "version": 3
   },
   "file_extension": ".py",
   "mimetype": "text/x-python",
   "name": "python",
   "nbconvert_exporter": "python",
   "pygments_lexer": "ipython3",
   "version": "3.7.6"
  },
  "toc-autonumbering": false
 },
 "nbformat": 4,
 "nbformat_minor": 5
}
