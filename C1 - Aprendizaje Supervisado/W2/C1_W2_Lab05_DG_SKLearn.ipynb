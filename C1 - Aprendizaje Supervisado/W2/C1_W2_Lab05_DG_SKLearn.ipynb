{
 "cells": [
  {
   "metadata": {},
   "cell_type": "markdown",
   "source": [
    "<a target=\"_blank\" href=\"https://colab.research.google.com/github/wakusoftware/curso-ml-espanol/blob/master/C1%20-%20Aprendizaje%20Supervisado/W2/C1_W2_Lab05_DG_SKLearn.ipynb\">\n",
    "  <img src=\"https://colab.research.google.com/assets/colab-badge.svg\" alt=\"Open In Colab\"/>\n",
    "</a>"
   ],
   "id": "9d67b8a0bf1a25a0"
  },
  {
   "metadata": {},
   "cell_type": "markdown",
   "source": [
    "## Setup para Colab\n",
    "Si estás corriendo este Notebook en Google Colab corre la celda de abajo, de lo contrario ignórala."
   ],
   "id": "dda30c03b0fda364"
  },
  {
   "metadata": {},
   "cell_type": "code",
   "outputs": [],
   "execution_count": null,
   "source": [
    "!git clone https://github.com/wakusoftware/curso-ml-espanol.git\n",
    "\n",
    "%cd curso-ml-espanol/C1 - Aprendizaje Supervisado/W2/\n",
    "\n",
    "!cp lab_utils_common.py /content/\n",
    "\n",
    "!cp lab_utils_multi.py /content/\n",
    "\n",
    "!cp deeplearning.mplstyle /content/\n",
    "\n",
    "!cp -r data /content/\n",
    "\n",
    "!cp -r images /content/\n",
    "\n",
    "%cd /content/\n",
    "\n",
    "!rm -rf curso-ml-espanol/"
   ],
   "id": "702911b1ee5aa7a7"
  },
  {
   "cell_type": "markdown",
   "metadata": {
    "pycharm": {
     "name": "#%% md\n"
    }
   },
   "source": "# Laboratorio: Regresión Lineal utilizando Scikit-Learn",
   "id": "1b8c0c2e8ed55af0"
  },
  {
   "cell_type": "markdown",
   "metadata": {
    "pycharm": {
     "name": "#%% md\n"
    }
   },
   "source": "Existe un kit de herramientas de aprendizaje automático de código abierto y utilizable comercialmente llamado [scikit-learn](https://scikit-learn.org/stable/index.html). Este kit contiene implementaciones de muchos de los algoritmos con los que trabajarás en este curso.",
   "id": "4daea410fbab355d"
  },
  {
   "cell_type": "markdown",
   "metadata": {
    "pycharm": {
     "name": "#%% md\n"
    }
   },
   "source": [
    "## Objetivos\n",
    "En este laboratorio:\n",
    "- Utilizarás scikit-learn para implementar la regresión lineal usando el Descenso de Gradiente"
   ],
   "id": "c56d443cd1266f86"
  },
  {
   "cell_type": "markdown",
   "metadata": {
    "pycharm": {
     "name": "#%% md\n"
    }
   },
   "source": [
    "## Herramientas\n",
    "Utilizarás funciones de scikit-learn, así como matplotlib y NumPy."
   ],
   "id": "e5d2f793807ecde2"
  },
  {
   "cell_type": "code",
   "metadata": {
    "pycharm": {
     "name": "#%%\n"
    }
   },
   "source": [
    "import numpy as np\n",
    "import matplotlib.pyplot as plt\n",
    "from sklearn.linear_model import SGDRegressor\n",
    "from sklearn.preprocessing import StandardScaler\n",
    "from lab_utils_multi import  load_house_data\n",
    "from lab_utils_common import dlc\n",
    "np.set_printoptions(precision=2)\n",
    "plt.style.use('./deeplearning.mplstyle')"
   ],
   "id": "cba94dc0fcb5c51e",
   "outputs": [],
   "execution_count": null
  },
  {
   "cell_type": "markdown",
   "metadata": {
    "pycharm": {
     "name": "#%% md\n"
    }
   },
   "source": [
    "# Descenso de Gradiente\n",
    "Scikit-learn tiene un modelo de regresión por descenso de gradiente [sklearn.linear_model.SGDRegressor](https://scikit-learn.org/stable/modules/generated/sklearn.linear_model.SGDRegressor.html#examples-using-sklearn-linear-model-sgdregressor). Al igual que tu implementación anterior de descenso de gradiente, este modelo funciona mejor con entradas normalizadas. [sklearn.preprocessing.StandardScaler](https://scikit-learn.org/stable/modules/generated/sklearn.preprocessing.StandardScaler.html#sklearn.preprocessing.StandardScaler) realizará la normalización z-score como en un laboratorio anterior. Aquí se le llama 'puntuación estándar'."
   ],
   "id": "a17bb833d020a0bb"
  },
  {
   "cell_type": "markdown",
   "metadata": {
    "pycharm": {
     "name": "#%% md\n"
    }
   },
   "source": "### Carga el data set",
   "id": "3cd161dc3600209f"
  },
  {
   "cell_type": "code",
   "metadata": {
    "pycharm": {
     "name": "#%%\n"
    }
   },
   "source": [
    "X_train, y_train = load_house_data()\n",
    "X_features = ['tamaño(pies cuadrados)', 'habitaciones', 'pisos', 'edad']"
   ],
   "id": "58791de01d3c5179",
   "outputs": [],
   "execution_count": null
  },
  {
   "cell_type": "markdown",
   "metadata": {
    "pycharm": {
     "name": "#%% md\n"
    }
   },
   "source": "### Escalar/normalizar los datos de entrenamiento",
   "id": "e65000588e36cf76"
  },
  {
   "cell_type": "code",
   "metadata": {
    "pycharm": {
     "name": "#%%\n"
    }
   },
   "source": [
    "scaler = StandardScaler()\n",
    "X_norm = scaler.fit_transform(X_train)\n",
    "print(f\"Rango de pico a pico por columna en X 'crudo': {np.ptp(X_train, axis=0)}\")\n",
    "print(f\"Rango de pico a pico por columna en X normalizado: {np.ptp(X_norm, axis=0)}\")"
   ],
   "id": "337908ffc5d2d4d5",
   "outputs": [],
   "execution_count": null
  },
  {
   "cell_type": "markdown",
   "metadata": {
    "pycharm": {
     "name": "#%% md\n"
    }
   },
   "source": "### Crear y ajustar el modelo de regresión",
   "id": "8fc1fe1914ad7236"
  },
  {
   "cell_type": "code",
   "metadata": {
    "pycharm": {
     "name": "#%%\n"
    }
   },
   "source": [
    "sgdr = SGDRegressor(max_iter=1000)\n",
    "sgdr.fit(X_norm, y_train)\n",
    "print(sgdr)\n",
    "print(f\"número de iteraciones completadas: {sgdr.n_iter_}, número de actualizaciones de peso: {sgdr.t_}\")"
   ],
   "id": "15db2307b1992f0a",
   "outputs": [],
   "execution_count": null
  },
  {
   "cell_type": "markdown",
   "metadata": {
    "pycharm": {
     "name": "#%% md\n"
    }
   },
   "source": [
    "### Ver parámetros\n",
    "Nota, los parámetros están asociados con los datos de entrada *normalizados*. Los parámetros ajustados son muy similares a los encontrados en el laboratorio anterior con estos datos."
   ],
   "id": "a139e0295965c19a"
  },
  {
   "cell_type": "code",
   "metadata": {
    "pycharm": {
     "name": "#%%\n"
    }
   },
   "source": [
    "b_norm = sgdr.intercept_\n",
    "w_norm = sgdr.coef_\n",
    "print(f\"parámetros del modelo:                   w: {w_norm}, b:{b_norm}\")\n",
    "print(\"parámetros del modelo del laboratorio anterior: w: [110.56 -21.27 -32.71 -37.97], b: 363.16\")"
   ],
   "id": "36f9132314d43770",
   "outputs": [],
   "execution_count": null
  },
  {
   "cell_type": "markdown",
   "metadata": {
    "pycharm": {
     "name": "#%% md\n"
    }
   },
   "source": [
    "### Hacer predicciones\n",
    "Predice los objetivos de los datos de entrenamiento. Utiliza tanto la rutina `predict` como el cálculo usando $w$ y $b$."
   ],
   "id": "b4603ffbe1b188b"
  },
  {
   "cell_type": "code",
   "metadata": {
    "pycharm": {
     "name": "#%%\n"
    }
   },
   "source": [
    "# hacer una predicción usando sgdr.predict()\n",
    "y_pred_sgd = sgdr.predict(X_norm)\n",
    "# hacer una predicción usando w, b.\n",
    "y_pred = np.dot(X_norm, w_norm) + b_norm  \n",
    "print(f\"coincidencia de predicción usando np.dot() y sgdr.predict: {(y_pred == y_pred_sgd).all()}\")\n",
    "\n",
    "print(f\"Predicción en el conjunto de entrenamiento:\\n{y_pred[:4]}\")\n",
    "print(f\"Valores objetivo \\n{y_train[:4]}\")"
   ],
   "id": "fd1863f5c389efe1",
   "outputs": [],
   "execution_count": null
  },
  {
   "cell_type": "markdown",
   "metadata": {
    "pycharm": {
     "name": "#%% md\n"
    }
   },
   "source": [
    "### Graficar Resultados\n",
    "Vamos a graficar las predicciones frente a los valores objetivo."
   ],
   "id": "64deaa7be75ec710"
  },
  {
   "cell_type": "code",
   "metadata": {
    "pycharm": {
     "name": "#%%\n"
    }
   },
   "source": [
    "# graficar predicciones y objetivos versus características originales\n",
    "fig, ax = plt.subplots(1, 4, figsize=(12, 3), sharey=True)\n",
    "for i in range(len(ax)):\n",
    "    ax[i].scatter(X_train[:, i], y_train, label='objetivo')\n",
    "    ax[i].set_xlabel(X_features[i])\n",
    "    ax[i].scatter(X_train[:, i], y_pred, color='naranja', label='predicción')\n",
    "ax[0].set_ylabel(\"Precio\"); ax[0].legend();\n",
    "fig.suptitle(\"objetivo versus predicción usando el modelo normalizado z-score\")\n",
    "plt.show()"
   ],
   "id": "89d8bd5b2c66278e",
   "outputs": [],
   "execution_count": null
  },
  {
   "cell_type": "markdown",
   "metadata": {
    "pycharm": {
     "name": "#%% md\n"
    }
   },
   "source": [
    "## ¡Felicidades!\n",
    "En este laboratorio:\n",
    "- utilizaste un kit de herramientas de aprendizaje automático de código abierto, scikit-learn\n",
    "- implementaste regresión lineal utilizando descenso de gradiente y normalización de características de ese kit"
   ],
   "id": "bdf0543250327302"
  },
  {
   "cell_type": "code",
   "metadata": {
    "pycharm": {
     "name": "#%%\n"
    }
   },
   "source": [],
   "id": "be8c05043ebef99",
   "outputs": [],
   "execution_count": null
  }
 ],
 "metadata": {
  "kernelspec": {
   "display_name": "Python 3",
   "language": "python",
   "name": "python3"
  },
  "language_info": {
   "codemirror_mode": {
    "name": "ipython",
    "version": 3
   },
   "file_extension": ".py",
   "mimetype": "text/x-python",
   "name": "python",
   "nbconvert_exporter": "python",
   "pygments_lexer": "ipython3",
   "version": "3.8.10"
  }
 },
 "nbformat": 4,
 "nbformat_minor": 5
}
