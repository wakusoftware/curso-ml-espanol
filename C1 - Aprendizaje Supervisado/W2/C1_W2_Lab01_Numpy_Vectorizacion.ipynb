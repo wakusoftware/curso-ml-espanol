{
 "cells": [
  {
   "metadata": {},
   "cell_type": "markdown",
   "source": [
    "<a target=\"_blank\" href=\"https://colab.research.google.com/github/wakusoftware/curso-ml-espanol/blob/master/C1%20-%20Aprendizaje%20Supervisado/W2/C1_W2_Lab01_Numpy_Vectorizacion.ipynb\">\n",
    "  <img src=\"https://colab.research.google.com/assets/colab-badge.svg\" alt=\"Open In Colab\"/>\n",
    "</a>"
   ]
  },
  {
   "metadata": {},
   "cell_type": "markdown",
   "source": [
    "## Setup para Colab\n",
    "Si estás corriendo este Notebook en Google Colab corre la celda de abajo, de lo contrario ignórala."
   ]
  },
  {
   "metadata": {},
   "cell_type": "code",
   "source": [
    "!git clone https://github.com/wakusoftware/curso-ml-espanol.git\n",
    "\n",
    "%cd curso-ml-espanol/C1 - Aprendizaje Supervisado/W2/\n",
    "\n",
    "!cp lab_utils_common.py /content/\n",
    "\n",
    "!cp lab_utils_multi.py /content/\n",
    "\n",
    "!cp -r data /content/\n",
    "\n",
    "!cp -r images /content/\n",
    "\n",
    "%cd /content/\n",
    "\n",
    "!rm -rf curso-ml-espanol/"
   ],
   "outputs": [],
   "execution_count": null
  },
  {
   "cell_type": "markdown",
   "metadata": {
    "pycharm": {
     "name": "#%% md\n"
    }
   },
   "source": [
    "# Lab: Python, NumPy y Vectorización\n",
    "Una breve introducción a algunos de los cálculos científicos utilizados en este curso. En particular, el paquete de cálculo científico NumPy y su uso con Python.\n",
    "\n",
    "# Contenido\n",
    "- [&nbsp;&nbsp;1.1 Objetivos](#toc_40015_1.1)\n",
    "- [&nbsp;&nbsp;1.2 Referencias Útiles](#toc_40015_1.2)\n",
    "- [2 Python y NumPy <a name='Python y NumPy'></a>](#toc_40015_2)\n",
    "- [3 Vectores](#toc_40015_3)\n",
    "- [&nbsp;&nbsp;3.1 Resumen](#toc_40015_3.1)\n",
    "- [&nbsp;&nbsp;3.2 Arreglos NumPy](#toc_40015_3.2)\n",
    "- [&nbsp;&nbsp;3.3 Creación de Vectores](#toc_40015_3.3)\n",
    "- [&nbsp;&nbsp;3.4 Operaciones con Vectores](#toc_40015_3.4)\n",
    "- [4 Matrices](#toc_40015_4)\n",
    "- [&nbsp;&nbsp;4.1 Resumen](#toc_40015_4.1)\n",
    "- [&nbsp;&nbsp;4.2 Arreglos NumPy](#toc_40015_4.2)\n",
    "- [&nbsp;&nbsp;4.3 Creación de Matrices](#toc_40015_4.3)\n",
    "- [&nbsp;&nbsp;4.4 Operaciones con Matrices](#toc_40015_4.4)"
   ]
  },
  {
   "cell_type": "code",
   "metadata": {
    "pycharm": {
     "name": "#%%\n"
    }
   },
   "source": [
    "import numpy as np    # es una forma estandarizada no oficial de importar NumPy\n",
    "import time"
   ],
   "outputs": [],
   "execution_count": null
  },
  {
   "cell_type": "markdown",
   "metadata": {
    "pycharm": {
     "name": "#%% md\n"
    }
   },
   "source": [
    "<a name=\"toc_40015_1.1\"></a>\n",
    "## 1.1 Objetivos\n",
    "En este laboratorio, harás lo siguiente:\n",
    "- Revisar las características de NumPy y Python que se utilizan en el Curso 1"
   ]
  },
  {
   "cell_type": "markdown",
   "metadata": {
    "pycharm": {
     "name": "#%% md\n"
    }
   },
   "source": [
    "<a name=\"toc_40015_1.2\"></a>\n",
    "## 1.2 Referencias Útiles\n",
    "- Documentación de NumPy incluyendo una introducción básica: [NumPy.org](https://NumPy.org/doc/stable/)\n",
    "- Un tema desafiante: [Difusión de NumPy (Broadcasting)](https://NumPy.org/doc/stable/user/basics.broadcasting.html)"
   ]
  },
  {
   "cell_type": "markdown",
   "metadata": {
    "pycharm": {
     "name": "#%% md\n"
    }
   },
   "source": [
    "<a name=\"toc_40015_2\"></a>\n",
    "# 2 Python y NumPy <a name='Python y NumPy'></a>\n",
    "Python es el lenguaje de programación que utilizaremos en este curso. Cuenta con un conjunto de tipos de datos numéricos y operaciones aritméticas. NumPy es una biblioteca que extiende las capacidades básicas de Python para añadir un conjunto de datos más rico que incluye más tipos numéricos, vectores, matrices y muchas funciones matriciales. NumPy y Python trabajan juntos de manera bastante fluida. Los operadores aritméticos de Python funcionan con los tipos de datos de NumPy y muchas funciones de NumPy aceptarán tipos de datos de Python."
   ]
  },
  {
   "cell_type": "markdown",
   "metadata": {
    "pycharm": {
     "name": "#%% md\n"
    }
   },
   "source": [
    "<a name=\"toc_40015_3\"></a>\n",
    "# 3 Vectores\n",
    "<a name=\"toc_40015_3.1\"></a>\n",
    "## 3.1 Resumen\n",
    "<img align=\"right\" src=\"./images/C1_W2_Lab04_Vectors.jpg\" style=\"width:340px;\" >Los vectores, tal como los utilizarás en este curso, son arreglos ordenados de números. En notación, los vectores se denotan con letras en negrita minúsculas, como $\\mathbf{x}$. Los elementos de un vector son todos del mismo tipo. Un vector no contiene, por ejemplo, tanto caracteres como números. El número de elementos en el arreglo a menudo se refiere como la *dimensión*, aunque los matemáticos puedan preferir *rango*. El vector mostrado tiene una dimensión de $n$. Los elementos de un vector pueden referenciarse con un índice. En contextos matemáticos, los índices típicamente van del 1 al n. En ciencias de la computación y en estos laboratorios, la indexación normalmente va de 0 a n-1. En notación, los elementos de un vector, cuando se referencian individualmente, indicarán el índice en un subíndice, por ejemplo, el elemento $0^{th}$ del vector $\\mathbf{x}$ es $x_0$. Nota, la x no está en negrita en este caso."
   ]
  },
  {
   "cell_type": "markdown",
   "metadata": {
    "pycharm": {
     "name": "#%% md\n"
    }
   },
   "source": [
    "<a name=\"toc_40015_3.2\"></a>\n",
    "## 3.2 NumPy Arrays\n",
    "\n",
    "NumPy's basic data structure is an indexable, n-dimensional *array* containing elements of the same type (`dtype`). Right away, you may notice we have overloaded the term 'dimension'. Above, it was the number of elements in the vector, here, dimension refers to the number of indexes of an array. A one-dimensional or 1-D array has one index. In Course 1, we will represent vectors as NumPy 1-D arrays. \n",
    "\n",
    " - 1-D array, shape (n,): n elements indexed [0] through [n-1]\n",
    " "
   ]
  },
  {
   "cell_type": "markdown",
   "metadata": {
    "pycharm": {
     "name": "#%% md\n"
    }
   },
   "source": [
    "<a name=\"toc_40015_3.3\"></a>\n",
    "## 3.3 Creación de Vectores\n"
   ]
  },
  {
   "cell_type": "markdown",
   "metadata": {
    "pycharm": {
     "name": "#%% md\n"
    }
   },
   "source": "Las rutinas de creación de datos en NumPy generalmente tienen un primer parámetro que es la forma del objeto. Esto puede ser un valor único para un resultado 1-D o una tupla (n, m, ...) que especifica la forma del resultado. A continuación, se presentan ejemplos de cómo crear vectores utilizando estas rutinas."
  },
  {
   "metadata": {},
   "cell_type": "markdown",
   "source": ""
  },
  {
   "cell_type": "code",
   "metadata": {
    "pycharm": {
     "name": "#%%\n"
    }
   },
   "source": [
    "# Rutinas de NumPy que asignan memoria y llenan arreglos con un valor\n",
    "a = np.zeros(4);                print(f\"np.zeros(4) :   a = {a}, forma de a = {a.shape}, tipo de datos de a = {a.dtype}\")\n",
    "a = np.zeros((4,));             print(f\"np.zeros(4,) :  a = {a}, forma de a = {a.shape}, tipo de datos de a = {a.dtype}\")\n",
    "a = np.random.random_sample(4); print(f\"np.random.random_sample(4): a = {a}, forma de a = {a.shape}, tipo de datos de a = {a.dtype}\")"
   ],
   "outputs": [],
   "execution_count": null
  },
  {
   "cell_type": "markdown",
   "metadata": {
    "pycharm": {
     "name": "#%% md\n"
    }
   },
   "source": "Algunas rutinas de creación de datos no requieren una tupla de forma:"
  },
  {
   "cell_type": "code",
   "metadata": {
    "pycharm": {
     "name": "#%%\n"
    }
   },
   "source": [
    "# Rutinas de NumPy que asignan memoria y llenan arreglos con valores pero no aceptan forma como argumento de entrada\n",
    "a = np.arange(4.);              print(f\"np.arange(4.):     a = {a}, forma de a = {a.shape}, tipo de datos de a = {a.dtype}\")\n",
    "a = np.random.rand(4);          print(f\"np.random.rand(4): a = {a}, forma de a = {a.shape}, tipo de datos de a = {a.dtype}\")"
   ],
   "outputs": [],
   "execution_count": null
  },
  {
   "cell_type": "markdown",
   "metadata": {
    "pycharm": {
     "name": "#%% md\n"
    }
   },
   "source": "los valores pueden ser especificados manualmente también:"
  },
  {
   "cell_type": "code",
   "metadata": {
    "pycharm": {
     "name": "#%%\n"
    }
   },
   "source": [
    "# Rutinas de NumPy que asignan memoria y se llenan con valores especificados por el usuario\n",
    "a = np.array([5,4,3,2]);  print(f\"np.array([5,4,3,2]):  a = {a},     forma de a = {a.shape}, tipo de datos de a = {a.dtype}\")\n",
    "a = np.array([5.,4,3,2]); print(f\"np.array([5.,4,3,2]): a = {a}, forma de a = {a.shape}, tipo de datos de a = {a.dtype}\")"
   ],
   "outputs": [],
   "execution_count": null
  },
  {
   "cell_type": "markdown",
   "metadata": {
    "pycharm": {
     "name": "#%% md\n"
    }
   },
   "source": "Todos estos han creado un vector unidimensional `a` con cuatro elementos. `a.shape` devuelve las dimensiones. Aquí vemos que a.shape = `(4,)` indica un arreglo 1-D con 4 elementos."
  },
  {
   "cell_type": "markdown",
   "metadata": {
    "pycharm": {
     "name": "#%% md\n"
    }
   },
   "source": [
    "<a name=\"toc_40015_3.4\"></a>\n",
    "## 3.4 Operaciones con Vectores\n",
    "Exploremos algunas operaciones utilizando vectores.\n",
    "<a name=\"toc_40015_3.4.1\"></a>\n",
    "### 3.4.1 Indexación\n",
    "Los elementos de los vectores pueden ser accedidos mediante indexación y segmentación (slicing). NumPy proporciona un conjunto muy completo de capacidades de indexación y segmentación. Aquí solo exploraremos los conceptos básicos necesarios para el curso. Consulta [Segmentación e Indexación](https://NumPy.org/doc/stable/reference/arrays.indexing.html) para más detalles.  \n",
    "**Indexación** significa referirse a *un elemento* de un arreglo por su posición dentro del arreglo.  \n",
    "**Segmentación** significa obtener un *subconjunto* de elementos de un arreglo basado en sus índices.  \n",
    "NumPy comienza la indexación en cero, por lo que el tercer elemento de un vector $\\mathbf{a}$ es `a[2]`."
   ]
  },
  {
   "cell_type": "code",
   "metadata": {
    "pycharm": {
     "name": "#%%\n"
    }
   },
   "source": [
    "# operaciones de indexación de vectores en vectores 1-D\n",
    "a = np.arange(10)\n",
    "print(a)\n",
    "\n",
    "# acceder a un elemento\n",
    "print(f\"a[2].shape: {a[2].shape} a[2]  = {a[2]}, Acceder a un elemento devuelve un escalar\")\n",
    "\n",
    "# acceder al último elemento, los índices negativos cuentan desde el final\n",
    "print(f\"a[-1] = {a[-1]}\")\n",
    "\n",
    "# los índices deben estar dentro del rango del vector o producirán un error\n",
    "try:\n",
    "    c = a[10]\n",
    "except Exception as e:\n",
    "    print(\"El mensaje de error que verás es:\")\n",
    "    print(e)"
   ],
   "outputs": [],
   "execution_count": null
  },
  {
   "cell_type": "markdown",
   "metadata": {
    "pycharm": {
     "name": "#%% md\n"
    }
   },
   "source": [
    "<a name=\"toc_40015_3.4.2\"></a>\n",
    "### 3.4.2 Segmentación (slicing)\n",
    "La segmentación crea un arreglo de índices utilizando un conjunto de tres valores (`inicio:fin:paso`). También es válido usar un subconjunto de valores. Su uso se explica mejor con un ejemplo:"
   ]
  },
  {
   "cell_type": "code",
   "metadata": {
    "pycharm": {
     "name": "#%%\n"
    }
   },
   "source": [
    "# operaciones de segmentación de vectores\n",
    "a = np.arange(10)\n",
    "print(f\"a         = {a}\")\n",
    "\n",
    "# acceder a 5 elementos consecutivos (inicio:fin:paso)\n",
    "c = a[2:7:1];     print(\"a[2:7:1] = \", c)\n",
    "\n",
    "# acceder a 3 elementos separados por dos\n",
    "c = a[2:7:2];     print(\"a[2:7:2] = \", c)\n",
    "\n",
    "# acceder a todos los elementos desde el índice 3 en adelante\n",
    "c = a[3:];        print(\"a[3:]    = \", c)\n",
    "\n",
    "# acceder a todos los elementos por debajo del índice 3\n",
    "c = a[:3];        print(\"a[:3]    = \", c)\n",
    "\n",
    "# acceder a todos los elementos\n",
    "c = a[:];         print(\"a[:]     = \", c)"
   ],
   "outputs": [],
   "execution_count": null
  },
  {
   "cell_type": "markdown",
   "metadata": {
    "pycharm": {
     "name": "#%% md\n"
    }
   },
   "source": [
    "<a name=\"toc_40015_3.4.3\"></a>\n",
    "### 3.4.3 Operaciones en un solo vector\n",
    "Existen varias operaciones útiles que implican operaciones en un solo vector."
   ]
  },
  {
   "cell_type": "code",
   "metadata": {
    "pycharm": {
     "name": "#%%\n"
    }
   },
   "source": [
    "a = np.array([1,2,3,4])\n",
    "print(f\"a             : {a}\")\n",
    "# negar elementos de a\n",
    "b = -a \n",
    "print(f\"b = -a        : {b}\")\n",
    "\n",
    "# sumar todos los elementos de a, devuelve un escalar\n",
    "b = np.sum(a) \n",
    "print(f\"b = np.sum(a) : {b}\")\n",
    "\n",
    "b = np.mean(a)\n",
    "print(f\"b = np.mean(a): {b}\")\n",
    "\n",
    "b = a**2\n",
    "print(f\"b = a**2      : {b}\")"
   ],
   "outputs": [],
   "execution_count": null
  },
  {
   "cell_type": "markdown",
   "metadata": {
    "pycharm": {
     "name": "#%% md\n"
    }
   },
   "source": [
    "<a name=\"toc_40015_3.4.4\"></a>\n",
    "### 3.4.4 Operaciones elemento a elemento entre vectores\n",
    "La mayoría de las operaciones aritméticas, lógicas y de comparación de NumPy también se aplican a vectores. Estos operadores trabajan sobre una base de elemento por elemento. Por ejemplo:\n",
    "$$ \\mathbf{a} + \\mathbf{b} = \\sum_{i=0}^{n-1} a_i + b_i $$"
   ]
  },
  {
   "cell_type": "code",
   "metadata": {
    "pycharm": {
     "name": "#%%\n"
    }
   },
   "source": [
    "a = np.array([1, 2, 3, 4])\n",
    "b = np.array([-1, -2, 3, 4])\n",
    "print(f\"Los operadores binarios funcionan elemento a elemento: {a + b}\")"
   ],
   "outputs": [],
   "execution_count": null
  },
  {
   "cell_type": "markdown",
   "metadata": {
    "pycharm": {
     "name": "#%% md\n"
    }
   },
   "source": "Por supuesto, para que esto funcione correctamente, los vectores deben ser del mismo tamaño:"
  },
  {
   "cell_type": "code",
   "metadata": {
    "pycharm": {
     "name": "#%%\n"
    }
   },
   "source": [
    "#try a mismatched vector operation\n",
    "c = np.array([1, 2])\n",
    "try:\n",
    "    d = a + c\n",
    "except Exception as e:\n",
    "    print(\"El mensaje de error que veras es:\")\n",
    "    print(e)"
   ],
   "outputs": [],
   "execution_count": null
  },
  {
   "cell_type": "markdown",
   "metadata": {
    "pycharm": {
     "name": "#%% md\n"
    }
   },
   "source": [
    "<a name=\"toc_40015_3.4.5\"></a>\n",
    "### 3.4.5 Operaciones de escalar con vector\n",
    "Los vectores pueden ser 'escalados' por valores escalares. Un valor escalar es simplemente un número. El escalar multiplica todos los elementos del vector."
   ]
  },
  {
   "cell_type": "code",
   "metadata": {
    "pycharm": {
     "name": "#%%\n"
    }
   },
   "source": [
    "a = np.array([1, 2, 3, 4])\n",
    "\n",
    "# multiplicar a por un escalar\n",
    "b = 5 * a \n",
    "print(f\"b = 5 * a : {b}\")"
   ],
   "outputs": [],
   "execution_count": null
  },
  {
   "cell_type": "markdown",
   "metadata": {
    "pycharm": {
     "name": "#%% md\n"
    }
   },
   "source": [
    "<a name=\"toc_40015_3.4.6\"></a>\n",
    "### 3.4.6 Producto punto entre vectores\n",
    "El producto punto es un pilar del Álgebra Lineal y de NumPy. Esta operación se utiliza extensamente en este curso y debe ser bien comprendida. El producto punto se muestra a continuación."
   ]
  },
  {
   "cell_type": "markdown",
   "metadata": {
    "pycharm": {
     "name": "#%% md\n"
    }
   },
   "source": [
    "<img src=\"./images/C1_W2_Lab04_dot_notrans.gif\" width=800> "
   ]
  },
  {
   "cell_type": "markdown",
   "metadata": {
    "pycharm": {
     "name": "#%% md\n"
    }
   },
   "source": [
    "El producto punto multiplica los valores en dos vectores elemento por elemento y luego suma el resultado.\n",
    "El producto punto entre vectores requiere que las dimensiones de los dos vectores sean iguales."
   ]
  },
  {
   "cell_type": "markdown",
   "metadata": {
    "pycharm": {
     "name": "#%% md\n"
    }
   },
   "source": [
    "Implementemos nuestra propia versión del producto punto a continuación:\n",
    "\n",
    "**Usando un bucle for**, implementa una función que devuelva el producto punto de dos vectores. La función debe retornar, dados los vectores de entrada $a$ y $b$:\n",
    "$$ x = \\sum_{i=0}^{n-1} a_i b_i $$\n",
    "Asume que tanto `a` como `b` tienen la misma forma."
   ]
  },
  {
   "cell_type": "code",
   "metadata": {
    "pycharm": {
     "name": "#%%\n"
    }
   },
   "source": [
    "def my_dot(a, b):\n",
    "    \"\"\"\n",
    "    Calcular el producto punto de dos vectores\n",
    "\n",
    "    Argumentos:\n",
    "      a (ndarray (n,)): vector de entrada\n",
    "      b (ndarray (n,)): vector de entrada con la misma dimensión que a\n",
    "\n",
    "    Devuelve:\n",
    "      x (escalar):\n",
    "    \"\"\"\n",
    "    x = 0\n",
    "    for i in range(a.shape[0]):\n",
    "        x = x + a[i] * b[i]\n",
    "    return x\n"
   ],
   "outputs": [],
   "execution_count": null
  },
  {
   "cell_type": "code",
   "metadata": {
    "pycharm": {
     "name": "#%%\n"
    }
   },
   "source": [
    "# test 1-D\n",
    "a = np.array([1, 2, 3, 4])\n",
    "b = np.array([-1, 4, 3, 2])\n",
    "print(f\"my_dot(a, b) = {my_dot(a, b)}\")"
   ],
   "outputs": [],
   "execution_count": null
  },
  {
   "cell_type": "markdown",
   "metadata": {
    "pycharm": {
     "name": "#%% md\n"
    }
   },
   "source": [
    "Ten en cuenta que se espera que el producto punto devuelva un valor escalar.\n",
    "\n",
    "Probemos las mismas operaciones usando `np.dot`."
   ]
  },
  {
   "cell_type": "code",
   "metadata": {
    "pycharm": {
     "name": "#%%\n"
    }
   },
   "source": [
    "# prueba 1-D\n",
    "a = np.array([1, 2, 3, 4])\n",
    "b = np.array([-1, 4, 3, 2])\n",
    "c = np.dot(a, b)\n",
    "print(f\"NumPy 1-D np.dot(a, b) = {c}, np.dot(a, b).shape = {c.shape}\") \n",
    "c = np.dot(b, a)\n",
    "print(f\"NumPy 1-D np.dot(b, a) = {c}, np.dot(a, b).shape = {c.shape}\")\n"
   ],
   "outputs": [],
   "execution_count": null
  },
  {
   "cell_type": "markdown",
   "metadata": {
    "pycharm": {
     "name": "#%% md\n"
    }
   },
   "source": "Arriba, notarás que los resultados para 1-D coinciden con nuestra implementación."
  },
  {
   "cell_type": "markdown",
   "metadata": {
    "pycharm": {
     "name": "#%% md\n"
    }
   },
   "source": [
    "<a name=\"toc_40015_3.4.7\"></a>\n",
    "### 3.4.7 La necesidad de velocidad: vector vs bucle for\n",
    "Utilizamos la biblioteca NumPy porque mejora la velocidad y la eficiencia de la memoria. Vamos a demostrarlo:"
   ]
  },
  {
   "cell_type": "code",
   "metadata": {
    "pycharm": {
     "name": "#%%\n"
    }
   },
   "source": [
    "np.random.seed(1)\n",
    "a = np.random.rand(10000000)  # arreglos muy grandes\n",
    "b = np.random.rand(10000000)\n",
    "\n",
    "tic = time.time()  # capturar tiempo de inicio\n",
    "c = np.dot(a, b)\n",
    "toc = time.time()  # capturar tiempo de finalización\n",
    "\n",
    "print(f\"np.dot(a, b) =  {c:.4f}\")\n",
    "print(f\"Duración de la versión vectorizada: {1000*(toc-tic):.4f} ms \")\n",
    "\n",
    "tic = time.time()  # capturar tiempo de inicio\n",
    "c = my_dot(a, b)\n",
    "toc = time.time()  # capturar tiempo de finalización\n",
    "\n",
    "print(f\"mi_producto_punto(a, b) =  {c:.4f}\")\n",
    "print(f\"Duración de la versión con bucle: {1000*(toc-tic):.4f} ms \")\n",
    "\n",
    "del(a); del(b)  # eliminar estos grandes arreglos de la memoria"
   ],
   "outputs": [],
   "execution_count": null
  },
  {
   "cell_type": "markdown",
   "metadata": {
    "pycharm": {
     "name": "#%% md\n"
    }
   },
   "source": "Por lo tanto, la vectorización proporciona una gran aceleración en este ejemplo. Esto se debe a que NumPy aprovecha mejor el paralelismo de datos disponible en el hardware subyacente. Las GPU y las CPU modernas implementan tuberías SIMD (Instrucción Única, Datos Múltiples) que permiten emitir múltiples operaciones en paralelo. Esto es crítico en el aprendizaje automático, donde los conjuntos de datos suelen ser muy grandes."
  },
  {
   "cell_type": "markdown",
   "metadata": {
    "pycharm": {
     "name": "#%% md\n"
    }
   },
   "source": [
    "<a name=\"toc_12345_3.4.8\"></a>\n",
    "### 3.4.8 Operaciones de vector con vector en el Curso 1\n",
    "Las operaciones de vector con vector aparecerán frecuentemente en el curso 1. Aquí está el porqué:\n",
    "- En adelante, nuestros ejemplos se almacenarán en un arreglo, `X_train` de dimensión (m,n). Esto se explicará más en contexto, pero aquí es importante señalar que es un arreglo de 2 dimensiones o matriz (ver la siguiente sección sobre matrices).\n",
    "- `w` será un vector unidimensional de forma (n,).\n",
    "- Realizaremos operaciones recorriendo los ejemplos, extrayendo cada ejemplo individualmente mediante indexación de X. Por ejemplo: `X[i]`\n",
    "- `X[i]` devuelve un valor de forma (n,), un vector unidimensional. Por lo tanto, las operaciones que involucran `X[i]` son a menudo de vector con vector.\n",
    "\n",
    "Esa es una explicación algo extensa, pero alinear y entender las formas de tus operandos es importante al realizar operaciones vectoriales."
   ]
  },
  {
   "cell_type": "code",
   "metadata": {
    "pycharm": {
     "name": "#%%\n"
    }
   },
   "source": [
    "# mostrar un ejemplo común del Curso 1\n",
    "X = np.array([[1],[2],[3],[4]])\n",
    "w = np.array([2])\n",
    "c = np.dot(X[1], w)\n",
    "\n",
    "print(f\"X[1] tiene forma {X[1].shape}\")\n",
    "print(f\"w tiene forma {w.shape}\")\n",
    "print(f\"c tiene forma {c.shape}\")\n"
   ],
   "outputs": [],
   "execution_count": null
  },
  {
   "cell_type": "markdown",
   "metadata": {
    "pycharm": {
     "name": "#%% md\n"
    }
   },
   "source": [
    "<a name=\"toc_40015_4\"></a>\n",
    "# 4 Matrices\n"
   ]
  },
  {
   "cell_type": "markdown",
   "metadata": {
    "pycharm": {
     "name": "#%% md\n"
    }
   },
   "source": [
    "<a name=\"toc_40015_4.1\"></a>\n",
    "## 4.1 Resumen\n",
    "Las matrices son arreglos bidimensionales. Los elementos de una matriz son todos del mismo tipo. En notación, las matrices se denotan con letras mayúsculas y en negrita, como $\\mathbf{X}$. En este y otros laboratorios, `m` es a menudo el número de filas y `n` el número de columnas. Los elementos de una matriz pueden referenciarse con un índice bidimensional. En contextos matemáticos, los números en el índice típicamente van del 1 al n. En ciencias de la computación y en estos laboratorios, la indexación irá de 0 a n-1.\n",
    "<figure>\n",
    "    <center> <img src=\"./images/C1_W2_Lab04_Matrices.jpg\"  alt='missing'  width=900><center/>\n",
    "    <figcaption> Notación genérica de matrices, el 1er índice es la fila, el 2do es la columna </figcaption>\n",
    "<figure/>"
   ]
  },
  {
   "cell_type": "markdown",
   "metadata": {
    "pycharm": {
     "name": "#%% md\n"
    }
   },
   "source": [
    "<a name=\"toc_40015_4.2\"></a>\n",
    "## 4.2 Arreglos NumPy\n",
    "\n",
    "La estructura básica de datos de NumPy es un *arreglo* indexable y n-dimensional que contiene elementos del mismo tipo (`dtype`). Estos ya fueron descritos anteriormente. Las matrices tienen un índice bidimensional (2-D) [m,n].\n",
    "\n",
    "En el Curso 1, las matrices 2-D se utilizan para almacenar datos de entrenamiento. Los datos de entrenamiento consisten en $m$ ejemplos por $n$ características, creando un arreglo (m,n). El Curso 1 no realiza operaciones directamente sobre matrices, sino que típicamente extrae un ejemplo como un vector y opera sobre ese. A continuación, revisarás:\n",
    "- creación de datos\n",
    "- segmentación e indexación"
   ]
  },
  {
   "cell_type": "markdown",
   "metadata": {
    "pycharm": {
     "name": "#%% md\n"
    }
   },
   "source": [
    "<a name=\"toc_40015_4.3\"></a>\n",
    "## 4.3 Creación de Matrices\n",
    "Las mismas funciones que crearon vectores 1-D crearán arreglos 2-D o n-D. Aquí algunos ejemplos"
   ]
  },
  {
   "cell_type": "markdown",
   "metadata": {
    "pycharm": {
     "name": "#%% md\n"
    }
   },
   "source": "A continuación, se proporciona la tupla de forma para obtener un resultado 2-D. Observa cómo NumPy utiliza corchetes para denotar cada dimensión. Observa además que NumPy, al imprimir, imprimirá una fila por línea."
  },
  {
   "cell_type": "code",
   "metadata": {
    "pycharm": {
     "name": "#%%\n"
    }
   },
   "source": [
    "a = np.zeros((1, 5))                                       \n",
    "print(f\"a shape = {a.shape}, a = {a}\")                     \n",
    "\n",
    "a = np.zeros((2, 1))                                                                   \n",
    "print(f\"a shape = {a.shape}, a = {a}\") \n",
    "\n",
    "a = np.random.random_sample((1, 1))  \n",
    "print(f\"a shape = {a.shape}, a = {a}\") \n"
   ],
   "outputs": [],
   "execution_count": null
  },
  {
   "cell_type": "markdown",
   "metadata": {
    "pycharm": {
     "name": "#%% md\n"
    }
   },
   "source": "También se puede especificar manualmente los datos. Las dimensiones se especifican con corchetes adicionales que coinciden con el formato mostrado en la impresión anterior."
  },
  {
   "cell_type": "code",
   "metadata": {
    "pycharm": {
     "name": "#%%\n"
    }
   },
   "source": [
    "# Rutinas de NumPy que asignan memoria y se llenan con valores especificados por el usuario\n",
    "a = np.array([[5], [4], [3]]);   print(f\" a shape = {a.shape}, np.array: a = {a}\")\n",
    "a = np.array([[5],   # También se pueden\n",
    "              [4],   # separar los valores\n",
    "              [3]]); # en filas separadas\n",
    "print(f\" a shape = {a.shape}, np.array: a = {a}\")\n"
   ],
   "outputs": [],
   "execution_count": null
  },
  {
   "cell_type": "markdown",
   "metadata": {
    "pycharm": {
     "name": "#%% md\n"
    }
   },
   "source": [
    "<a name=\"toc_40015_4.4\"></a>\n",
    "## 4.4 Operaciones con Matrices\n",
    "Explore algunas operaciones utilizando matrices."
   ]
  },
  {
   "cell_type": "markdown",
   "metadata": {
    "pycharm": {
     "name": "#%% md\n"
    }
   },
   "source": [
    "<a name=\"toc_40015_4.4.1\"></a>\n",
    "### 4.4.1 Índices\n"
   ]
  },
  {
   "cell_type": "markdown",
   "metadata": {
    "pycharm": {
     "name": "#%% md\n"
    }
   },
   "source": "Las matrices incluyen un segundo índice. Los dos índices describen [fila, columna]. El acceso puede devolver un elemento o una fila/columna. Vea a continuación:"
  },
  {
   "cell_type": "code",
   "metadata": {
    "pycharm": {
     "name": "#%%\n"
    }
   },
   "source": [
    "# operaciones de indexación de vectores en matrices\n",
    "a = np.arange(6).reshape(-1, 2)   # reshape es una forma conveniente de crear matrices\n",
    "print(f\"a.shape: {a.shape}, \\na= {a}\")\n",
    "\n",
    "# acceder a un elemento\n",
    "print(f\"\\na[2,0].shape:   {a[2, 0].shape}, a[2,0] = {a[2, 0]},     type(a[2,0]) = {type(a[2, 0])} Acceder a un elemento devuelve un escalar\\n\")\n",
    "\n",
    "# acceder a una fila\n",
    "print(f\"a[2].shape:   {a[2].shape}, a[2]   = {a[2]}, type(a[2])   = {type(a[2])}\")\n"
   ],
   "outputs": [],
   "execution_count": null
  },
  {
   "cell_type": "markdown",
   "metadata": {
    "pycharm": {
     "name": "#%% md\n"
    }
   },
   "source": "Vale la pena prestar atención al último ejemplo. Acceder a una matriz especificando solo la fila devolverá un *vector 1-D*."
  },
  {
   "cell_type": "markdown",
   "metadata": {
    "pycharm": {
     "name": "#%% md\n"
    }
   },
   "source": [
    "**Redimensionar**  \n",
    "El ejemplo anterior utilizó [reshape](https://numpy.org/doc/stable/reference/generated/numpy.reshape.html) para dar forma al arreglo.  \n",
    "`a = np.arange(6).reshape(-1, 2)`   \n",
    "Esta línea de código primero creó un *Vector 1-D* de seis elementos. Luego, redimensionó ese vector en un arreglo *2-D* usando el comando reshape. Esto podría haberse escrito:  \n",
    "`a = np.arange(6).reshape(3, 2)`  \n",
    "Para llegar al mismo arreglo de 3 filas y 2 columnas.\n",
    "El argumento -1 le dice a la rutina que calcule el número de filas dado el tamaño del arreglo y el número de columnas."
   ]
  },
  {
   "cell_type": "markdown",
   "metadata": {
    "pycharm": {
     "name": "#%% md\n"
    }
   },
   "source": [
    "<a name=\"toc_40015_4.4.2\"></a>\n",
    "### 4.4.2 Segmentación\n",
    "La segmentación crea un arreglo de índices utilizando un conjunto de tres valores (`inicio:fin:paso`). Un subconjunto de valores también es válido. Su uso se explica mejor con un ejemplo:"
   ]
  },
  {
   "cell_type": "code",
   "metadata": {
    "pycharm": {
     "name": "#%%\n"
    }
   },
   "source": [
    "# operaciones de segmentación 2-D en vectores\n",
    "a = np.arange(20).reshape(-1, 10)\n",
    "print(f\"a = \\n{a}\")\n",
    "\n",
    "# acceder a 5 elementos consecutivos (inicio:fin:paso)\n",
    "print(\"a[0, 2:7:1] = \", a[0, 2:7:1], \",  a[0, 2:7:1].shape =\", a[0, 2:7:1].shape, \"un arreglo 1-D\")\n",
    "\n",
    "# acceder a 5 elementos consecutivos (inicio:fin:paso) en dos filas\n",
    "print(\"a[:, 2:7:1] = \\n\", a[:, 2:7:1], \",  a[:, 2:7:1].shape =\", a[:, 2:7:1].shape, \"un arreglo 2-D\")\n",
    "\n",
    "# acceder a todos los elementos\n",
    "print(\"a[:,:] = \\n\", a[:,:], \",  a[:,:].shape =\", a[:,:].shape)\n",
    "\n",
    "# acceder a todos los elementos en una fila (uso muy común)\n",
    "print(\"a[1,:] = \", a[1,:], \",  a[1,:].shape =\", a[1,:].shape, \"un arreglo 1-D\")\n",
    "# igual que\n",
    "print(\"a[1]   = \", a[1],   \",  a[1].shape   =\", a[1].shape, \"un arreglo 1-D\")\n"
   ],
   "outputs": [],
   "execution_count": null
  },
  {
   "cell_type": "markdown",
   "metadata": {
    "pycharm": {
     "name": "#%% md\n"
    }
   },
   "source": [
    "<a name=\"toc_40015_5.0\"></a>\n",
    "## ¡Felicidades!\n",
    "En este laboratorio dominaste las características de Python y NumPy que son necesarias para el Curso 1."
   ]
  },
  {
   "cell_type": "code",
   "metadata": {
    "pycharm": {
     "name": "#%%\n"
    }
   },
   "source": [],
   "outputs": [],
   "execution_count": null
  }
 ],
 "metadata": {
  "dl_toc_settings": {
   "rndtag": "40015"
  },
  "kernelspec": {
   "display_name": "Python 3",
   "language": "python",
   "name": "python3"
  },
  "language_info": {
   "codemirror_mode": {
    "name": "ipython",
    "version": 3
   },
   "file_extension": ".py",
   "mimetype": "text/x-python",
   "name": "python",
   "nbconvert_exporter": "python",
   "pygments_lexer": "ipython3",
   "version": "3.7.6"
  },
  "toc-autonumbering": false
 },
 "nbformat": 4,
 "nbformat_minor": 4
}
